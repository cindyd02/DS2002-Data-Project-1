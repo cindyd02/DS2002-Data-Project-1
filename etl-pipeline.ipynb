{
 "cells": [
  {
   "cell_type": "code",
   "execution_count": 1,
   "metadata": {},
   "outputs": [
    {
     "name": "stdout",
     "output_type": "stream",
     "text": [
      "Defaulting to user installation because normal site-packages is not writeable\n",
      "Collecting kaggle\n",
      "  Downloading kaggle-1.6.17.tar.gz (82 kB)\n",
      "  Preparing metadata (setup.py) ... \u001b[?25ldone\n",
      "\u001b[?25hRequirement already satisfied: six>=1.10 in /Library/Developer/CommandLineTools/Library/Frameworks/Python3.framework/Versions/3.9/lib/python3.9/site-packages (from kaggle) (1.15.0)\n",
      "Requirement already satisfied: certifi>=2023.7.22 in /Users/carliestewart/Library/Python/3.9/lib/python/site-packages (from kaggle) (2024.8.30)\n",
      "Requirement already satisfied: python-dateutil in /Users/carliestewart/Library/Python/3.9/lib/python/site-packages (from kaggle) (2.9.0.post0)\n",
      "Requirement already satisfied: requests in /Users/carliestewart/Library/Python/3.9/lib/python/site-packages (from kaggle) (2.32.3)\n",
      "Collecting tqdm (from kaggle)\n",
      "  Downloading tqdm-4.66.5-py3-none-any.whl.metadata (57 kB)\n",
      "Collecting python-slugify (from kaggle)\n",
      "  Downloading python_slugify-8.0.4-py2.py3-none-any.whl.metadata (8.5 kB)\n",
      "Requirement already satisfied: urllib3 in /Users/carliestewart/Library/Python/3.9/lib/python/site-packages (from kaggle) (2.2.3)\n",
      "Collecting bleach (from kaggle)\n",
      "  Downloading bleach-6.1.0-py3-none-any.whl.metadata (30 kB)\n",
      "Requirement already satisfied: webencodings in /Users/carliestewart/Library/Python/3.9/lib/python/site-packages (from bleach->kaggle) (0.5.1)\n",
      "Collecting text-unidecode>=1.3 (from python-slugify->kaggle)\n",
      "  Downloading text_unidecode-1.3-py2.py3-none-any.whl.metadata (2.4 kB)\n",
      "Requirement already satisfied: charset-normalizer<4,>=2 in /Users/carliestewart/Library/Python/3.9/lib/python/site-packages (from requests->kaggle) (3.3.2)\n",
      "Requirement already satisfied: idna<4,>=2.5 in /Users/carliestewart/Library/Python/3.9/lib/python/site-packages (from requests->kaggle) (3.10)\n",
      "Downloading bleach-6.1.0-py3-none-any.whl (162 kB)\n",
      "Downloading python_slugify-8.0.4-py2.py3-none-any.whl (10 kB)\n",
      "Downloading tqdm-4.66.5-py3-none-any.whl (78 kB)\n",
      "Downloading text_unidecode-1.3-py2.py3-none-any.whl (78 kB)\n",
      "Building wheels for collected packages: kaggle\n",
      "  Building wheel for kaggle (setup.py) ... \u001b[?25ldone\n",
      "\u001b[?25h  Created wheel for kaggle: filename=kaggle-1.6.17-py3-none-any.whl size=105803 sha256=fa644eff027b14715a67f238539ade63dd06f8870abf11792a6314e4a20eb051\n",
      "  Stored in directory: /Users/carliestewart/Library/Caches/pip/wheels/2b/af/a9/70bffa2773af622d2ebea9c8d407720b86e67bd40c465bf837\n",
      "Successfully built kaggle\n",
      "Installing collected packages: text-unidecode, tqdm, python-slugify, bleach, kaggle\n",
      "Successfully installed bleach-6.1.0 kaggle-1.6.17 python-slugify-8.0.4 text-unidecode-1.3 tqdm-4.66.5\n"
     ]
    }
   ],
   "source": [
    "# reading in data\n",
    "! pip install kaggle "
   ]
  },
  {
   "cell_type": "code",
   "execution_count": 4,
   "metadata": {},
   "outputs": [
    {
     "name": "stdout",
     "output_type": "stream",
     "text": [
      "/Users/carliestewart/Library/Python/3.9/lib/python/site-packages/urllib3/__init__.py:35: NotOpenSSLWarning: urllib3 v2 only supports OpenSSL 1.1.1+, currently the 'ssl' module is compiled with 'LibreSSL 2.8.3'. See: https://github.com/urllib3/urllib3/issues/3020\n",
      "  warnings.warn(\n",
      "Dataset URL: https://www.kaggle.com/datasets/mohamedyosef101/2024-olympics-medals-and-economic-status\n",
      "License(s): MIT\n",
      "Downloading 2024-olympics-medals-and-economic-status.zip to /Users/carliestewart/Documents/DS2002-Data-Project-1\n",
      "  0%|                                               | 0.00/2.08k [00:00<?, ?B/s]\n",
      "100%|██████████████████████████████████████| 2.08k/2.08k [00:00<00:00, 1.00MB/s]\n"
     ]
    }
   ],
   "source": [
    "# reading in the olympics data\n",
    "! kaggle datasets download -d mohamedyosef101/2024-olympics-medals-and-economic-status\n",
    "! unzip /Users/carliestewart/Documents/DS2002-Data-Project-1/2024-olympics-medals-and-economic-status.zip -d ."
   ]
  },
  {
   "cell_type": "code",
   "execution_count": 7,
   "metadata": {},
   "outputs": [
    {
     "name": "stdout",
     "output_type": "stream",
     "text": [
      "/Users/carliestewart/Library/Python/3.9/lib/python/site-packages/urllib3/__init__.py:35: NotOpenSSLWarning: urllib3 v2 only supports OpenSSL 1.1.1+, currently the 'ssl' module is compiled with 'LibreSSL 2.8.3'. See: https://github.com/urllib3/urllib3/issues/3020\n",
      "  warnings.warn(\n",
      "Dataset URL: https://www.kaggle.com/datasets/diishasiing/cricket-analysis-dataset\n",
      "License(s): CC0-1.0\n",
      "cricket-analysis-dataset.zip: Skipping, found more recently modified local copy (use --force to force download)\n",
      "Archive:  /Users/carliestewart/Documents/DS2002-Data-Project-1/cricket-analysis-dataset.zip\n",
      "  inflating: ./df_batting.csv        \n",
      "  inflating: ./df_bowling.csv        \n",
      "  inflating: ./df_match.csv          \n",
      "  inflating: ./df_players.csv        \n",
      "  inflating: ./t20_wc_batting_summary.json  \n",
      "  inflating: ./t20_wc_bowling_summary.json  \n",
      "  inflating: ./t20_wc_match_results.json  \n",
      "  inflating: ./t20_wc_player_info.json  \n"
     ]
    }
   ],
   "source": [
    "# reading in the cricket json \n",
    "! kaggle datasets download -d diishasiing/cricket-analysis-dataset\n",
    "! unzip /Users/carliestewart/Documents/DS2002-Data-Project-1/cricket-analysis-dataset.zip -d ."
   ]
  },
  {
   "cell_type": "code",
   "execution_count": 17,
   "metadata": {},
   "outputs": [
    {
     "name": "stdout",
     "output_type": "stream",
     "text": [
      "Number of rows: 90\n",
      "Number of columns: 9\n"
     ]
    }
   ],
   "source": [
    "import pandas as pd\n",
    "olympics_csv = pd.read_csv('olympics-economics.csv')\n",
    "olympics_csv.head()\n",
    "\n",
    "\n",
    "olympics_num_rows = len(olympics_csv)\n",
    "print(\"Number of rows: \" + str(olympics_num_rows))\n",
    "olympics_num_cols = len(olympics_csv.columns)\n",
    "print(\"Number of columns: \" + str(olympics_num_cols))\n"
   ]
  },
  {
   "cell_type": "code",
   "execution_count": 19,
   "metadata": {},
   "outputs": [
    {
     "name": "stdout",
     "output_type": "stream",
     "text": [
      "Number of rows: 45\n",
      "Number of columns: 1\n"
     ]
    }
   ],
   "source": [
    "cricket_json = pd.read_json('t20_wc_batting_summary.json')\n",
    "cricket_num_rows = len(cricket_json)\n",
    "print(\"Number of rows: \" + str(cricket_num_rows))\n",
    "\n",
    "cricket_num_cols = len(cricket_json.columns)\n",
    "print(\"Number of columns: \" + str(cricket_num_cols))\n"
   ]
  }
 ],
 "metadata": {
  "kernelspec": {
   "display_name": "Python 3",
   "language": "python",
   "name": "python3"
  },
  "language_info": {
   "codemirror_mode": {
    "name": "ipython",
    "version": 3
   },
   "file_extension": ".py",
   "mimetype": "text/x-python",
   "name": "python",
   "nbconvert_exporter": "python",
   "pygments_lexer": "ipython3",
   "version": "3.9.6"
  }
 },
 "nbformat": 4,
 "nbformat_minor": 2
}
